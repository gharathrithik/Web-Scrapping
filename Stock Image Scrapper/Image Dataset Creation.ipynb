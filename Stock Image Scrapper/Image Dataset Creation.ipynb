{
 "cells": [
  {
   "cell_type": "code",
   "execution_count": 90,
   "id": "b8272d89",
   "metadata": {},
   "outputs": [
    {
     "data": {
      "text/html": [
       "<div>\n",
       "<style scoped>\n",
       "    .dataframe tbody tr th:only-of-type {\n",
       "        vertical-align: middle;\n",
       "    }\n",
       "\n",
       "    .dataframe tbody tr th {\n",
       "        vertical-align: top;\n",
       "    }\n",
       "\n",
       "    .dataframe thead th {\n",
       "        text-align: right;\n",
       "    }\n",
       "</style>\n",
       "<table border=\"1\" class=\"dataframe\">\n",
       "  <thead>\n",
       "    <tr style=\"text-align: right;\">\n",
       "      <th></th>\n",
       "      <th>Image Link</th>\n",
       "      <th>Tags</th>\n",
       "      <th>Likes</th>\n",
       "      <th>Comments</th>\n",
       "      <th>Path</th>\n",
       "    </tr>\n",
       "  </thead>\n",
       "  <tbody>\n",
       "    <tr>\n",
       "      <th>0</th>\n",
       "      <td>https://cdn.pixabay.com/photo/2022/03/06/05/30...</td>\n",
       "      <td>Clouds, Sky, Atmosphere, Blue Sky</td>\n",
       "      <td>196</td>\n",
       "      <td>55</td>\n",
       "      <td>Images/clouds-7050884__480.jpg</td>\n",
       "    </tr>\n",
       "    <tr>\n",
       "      <th>1</th>\n",
       "      <td>https://cdn.pixabay.com/photo/2022/04/07/11/45...</td>\n",
       "      <td>Bird, Ornithology, Hummingbird</td>\n",
       "      <td>76</td>\n",
       "      <td>20</td>\n",
       "      <td>Images/bird-7117346__340.jpg</td>\n",
       "    </tr>\n",
       "    <tr>\n",
       "      <th>2</th>\n",
       "      <td>https://cdn.pixabay.com/photo/2022/02/28/15/28...</td>\n",
       "      <td>Sea, Rainbow, Rainfall, Subtropical</td>\n",
       "      <td>282</td>\n",
       "      <td>106</td>\n",
       "      <td>Images/sea-7039471__340.jpg</td>\n",
       "    </tr>\n",
       "    <tr>\n",
       "      <th>3</th>\n",
       "      <td>https://cdn.pixabay.com/photo/2022/04/04/02/52...</td>\n",
       "      <td>Cherry Blossoms, Road, Japan, Sakura</td>\n",
       "      <td>42</td>\n",
       "      <td>11</td>\n",
       "      <td>Images/cherry-blossoms-7110279__340.jpg</td>\n",
       "    </tr>\n",
       "    <tr>\n",
       "      <th>4</th>\n",
       "      <td>https://cdn.pixabay.com/photo/2022/04/09/18/06...</td>\n",
       "      <td>Cape Marguerite, Flower, Plant</td>\n",
       "      <td>39</td>\n",
       "      <td>15</td>\n",
       "      <td>Images/cape-marguerite-7121992__340.jpg</td>\n",
       "    </tr>\n",
       "  </tbody>\n",
       "</table>\n",
       "</div>"
      ],
      "text/plain": [
       "                                          Image Link  \\\n",
       "0  https://cdn.pixabay.com/photo/2022/03/06/05/30...   \n",
       "1  https://cdn.pixabay.com/photo/2022/04/07/11/45...   \n",
       "2  https://cdn.pixabay.com/photo/2022/02/28/15/28...   \n",
       "3  https://cdn.pixabay.com/photo/2022/04/04/02/52...   \n",
       "4  https://cdn.pixabay.com/photo/2022/04/09/18/06...   \n",
       "\n",
       "                                   Tags  Likes  Comments  \\\n",
       "0     Clouds, Sky, Atmosphere, Blue Sky    196        55   \n",
       "1        Bird, Ornithology, Hummingbird     76        20   \n",
       "2   Sea, Rainbow, Rainfall, Subtropical    282       106   \n",
       "3  Cherry Blossoms, Road, Japan, Sakura     42        11   \n",
       "4        Cape Marguerite, Flower, Plant     39        15   \n",
       "\n",
       "                                      Path  \n",
       "0           Images/clouds-7050884__480.jpg  \n",
       "1             Images/bird-7117346__340.jpg  \n",
       "2              Images/sea-7039471__340.jpg  \n",
       "3  Images/cherry-blossoms-7110279__340.jpg  \n",
       "4  Images/cape-marguerite-7121992__340.jpg  "
      ]
     },
     "execution_count": 90,
     "metadata": {},
     "output_type": "execute_result"
    }
   ],
   "source": [
    "import os\n",
    "import pandas as pd\n",
    "import shutil\n",
    "\n",
    "from tqdm import tqdm\n",
    "from shutil import copyfile as copy\n",
    "\n",
    "df = pd.read_csv('Final Stock Images.csv')\n",
    "\n",
    "df.head()"
   ]
  },
  {
   "cell_type": "markdown",
   "id": "3c28a521",
   "metadata": {},
   "source": [
    "## Removing Unwanted Columns"
   ]
  },
  {
   "cell_type": "code",
   "execution_count": 21,
   "id": "6a519bcc",
   "metadata": {},
   "outputs": [],
   "source": [
    "del df['Image Link']\n",
    "del df['Comments']\n",
    "del df['Likes']"
   ]
  },
  {
   "cell_type": "code",
   "execution_count": 22,
   "id": "68a63c12",
   "metadata": {},
   "outputs": [
    {
     "data": {
      "text/html": [
       "<div>\n",
       "<style scoped>\n",
       "    .dataframe tbody tr th:only-of-type {\n",
       "        vertical-align: middle;\n",
       "    }\n",
       "\n",
       "    .dataframe tbody tr th {\n",
       "        vertical-align: top;\n",
       "    }\n",
       "\n",
       "    .dataframe thead th {\n",
       "        text-align: right;\n",
       "    }\n",
       "</style>\n",
       "<table border=\"1\" class=\"dataframe\">\n",
       "  <thead>\n",
       "    <tr style=\"text-align: right;\">\n",
       "      <th></th>\n",
       "      <th>Tags</th>\n",
       "      <th>Path</th>\n",
       "    </tr>\n",
       "  </thead>\n",
       "  <tbody>\n",
       "    <tr>\n",
       "      <th>0</th>\n",
       "      <td>Clouds, Sky, Atmosphere, Blue Sky</td>\n",
       "      <td>Images/clouds-7050884__480.jpg</td>\n",
       "    </tr>\n",
       "    <tr>\n",
       "      <th>1</th>\n",
       "      <td>Bird, Ornithology, Hummingbird</td>\n",
       "      <td>Images/bird-7117346__340.jpg</td>\n",
       "    </tr>\n",
       "    <tr>\n",
       "      <th>2</th>\n",
       "      <td>Sea, Rainbow, Rainfall, Subtropical</td>\n",
       "      <td>Images/sea-7039471__340.jpg</td>\n",
       "    </tr>\n",
       "    <tr>\n",
       "      <th>3</th>\n",
       "      <td>Cherry Blossoms, Road, Japan, Sakura</td>\n",
       "      <td>Images/cherry-blossoms-7110279__340.jpg</td>\n",
       "    </tr>\n",
       "    <tr>\n",
       "      <th>4</th>\n",
       "      <td>Cape Marguerite, Flower, Plant</td>\n",
       "      <td>Images/cape-marguerite-7121992__340.jpg</td>\n",
       "    </tr>\n",
       "  </tbody>\n",
       "</table>\n",
       "</div>"
      ],
      "text/plain": [
       "                                   Tags  \\\n",
       "0     Clouds, Sky, Atmosphere, Blue Sky   \n",
       "1        Bird, Ornithology, Hummingbird   \n",
       "2   Sea, Rainbow, Rainfall, Subtropical   \n",
       "3  Cherry Blossoms, Road, Japan, Sakura   \n",
       "4        Cape Marguerite, Flower, Plant   \n",
       "\n",
       "                                      Path  \n",
       "0           Images/clouds-7050884__480.jpg  \n",
       "1             Images/bird-7117346__340.jpg  \n",
       "2              Images/sea-7039471__340.jpg  \n",
       "3  Images/cherry-blossoms-7110279__340.jpg  \n",
       "4  Images/cape-marguerite-7121992__340.jpg  "
      ]
     },
     "execution_count": 22,
     "metadata": {},
     "output_type": "execute_result"
    }
   ],
   "source": [
    "df.head()"
   ]
  },
  {
   "cell_type": "markdown",
   "id": "e31b53d7",
   "metadata": {},
   "source": [
    "## Finding all the tags"
   ]
  },
  {
   "cell_type": "code",
   "execution_count": 23,
   "id": "fb45dda0",
   "metadata": {},
   "outputs": [],
   "source": [
    "tags = []\n",
    "\n",
    "for t in df['Tags']:\n",
    "    tags += [tag.strip() for tag in t.split(',')]\n",
    "    \n",
    "unique_tags = list(set(tags))"
   ]
  },
  {
   "cell_type": "markdown",
   "id": "bce8118e",
   "metadata": {},
   "source": [
    "## Creating Folders for each Tag"
   ]
  },
  {
   "cell_type": "code",
   "execution_count": 24,
   "id": "7a691ae0",
   "metadata": {},
   "outputs": [
    {
     "name": "stderr",
     "output_type": "stream",
     "text": [
      "100%|███████████████████████████████████████████████████████████████████████████| 8015/8015 [00:00<00:00, 24220.81it/s]\n"
     ]
    }
   ],
   "source": [
    "for tag in tqdm(unique_tags):\n",
    "    \n",
    "    try:\n",
    "        os.mkdir('Dataset/' + tag)\n",
    "    except:\n",
    "        pass"
   ]
  },
  {
   "cell_type": "markdown",
   "id": "6612e386",
   "metadata": {},
   "source": [
    "## Saving the Images in their respective tags & Creating Dataset"
   ]
  },
  {
   "cell_type": "code",
   "execution_count": 25,
   "id": "80e89926",
   "metadata": {},
   "outputs": [
    {
     "name": "stderr",
     "output_type": "stream",
     "text": [
      "100%|██████████████████████████████████████████████████████████████████████████████| 9104/9104 [03:23<00:00, 44.70it/s]\n"
     ]
    }
   ],
   "source": [
    "error = 0\n",
    "\n",
    "for data in tqdm(df.values):\n",
    "    \n",
    "    tags = data[0]\n",
    "    tags = ['Dataset/' + tag.strip() + '/' for tag in tags.split(',')]\n",
    "    \n",
    "    src = data[1]\n",
    "    \n",
    "    for i in tags:\n",
    "        dst = i + src.split('/')[-1]\n",
    "        \n",
    "        try:\n",
    "            copy(src, dst)\n",
    "        except:\n",
    "            error += 1"
   ]
  },
  {
   "cell_type": "markdown",
   "id": "47e990d1",
   "metadata": {},
   "source": [
    "## Checking the folders"
   ]
  },
  {
   "cell_type": "code",
   "execution_count": 28,
   "id": "34bb909d",
   "metadata": {},
   "outputs": [
    {
     "data": {
      "text/plain": [
       "7964"
      ]
     },
     "execution_count": 28,
     "metadata": {},
     "output_type": "execute_result"
    }
   ],
   "source": [
    "folders = os.listdir('Dataset')\n",
    "\n",
    "len(folders)"
   ]
  },
  {
   "cell_type": "code",
   "execution_count": 44,
   "id": "57c7a6d4",
   "metadata": {},
   "outputs": [],
   "source": [
    "folder_ = []\n",
    "freq = []\n",
    "\n",
    "for folder in folders:\n",
    "    \n",
    "    try:\n",
    "        freq.append(len(os.listdir('Dataset/' + folder)))\n",
    "        folder_.append(folder)\n",
    "    except:\n",
    "        pass"
   ]
  },
  {
   "cell_type": "code",
   "execution_count": 48,
   "id": "7aa101ca",
   "metadata": {},
   "outputs": [],
   "source": [
    "df_2 = pd.DataFrame()\n",
    "\n",
    "df_2['Folders']   = folder_\n",
    "df_2['Frequency'] = freq"
   ]
  },
  {
   "cell_type": "code",
   "execution_count": 49,
   "id": "0ef00ecd",
   "metadata": {},
   "outputs": [
    {
     "data": {
      "text/html": [
       "<div>\n",
       "<style scoped>\n",
       "    .dataframe tbody tr th:only-of-type {\n",
       "        vertical-align: middle;\n",
       "    }\n",
       "\n",
       "    .dataframe tbody tr th {\n",
       "        vertical-align: top;\n",
       "    }\n",
       "\n",
       "    .dataframe thead th {\n",
       "        text-align: right;\n",
       "    }\n",
       "</style>\n",
       "<table border=\"1\" class=\"dataframe\">\n",
       "  <thead>\n",
       "    <tr style=\"text-align: right;\">\n",
       "      <th></th>\n",
       "      <th>Folders</th>\n",
       "      <th>Frequency</th>\n",
       "    </tr>\n",
       "  </thead>\n",
       "  <tbody>\n",
       "    <tr>\n",
       "      <th>0</th>\n",
       "      <td>&amp;quot;All we are saying is give peace a chance...</td>\n",
       "      <td>1</td>\n",
       "    </tr>\n",
       "    <tr>\n",
       "      <th>1</th>\n",
       "      <td>&amp;quot;Gray wagtail&amp;quot; found in rivers and m...</td>\n",
       "      <td>1</td>\n",
       "    </tr>\n",
       "    <tr>\n",
       "      <th>2</th>\n",
       "      <td>1891. In 1906 she was en route from Peru to Ge...</td>\n",
       "      <td>1</td>\n",
       "    </tr>\n",
       "    <tr>\n",
       "      <th>3</th>\n",
       "      <td>1925</td>\n",
       "      <td>1</td>\n",
       "    </tr>\n",
       "    <tr>\n",
       "      <th>4</th>\n",
       "      <td>1950S</td>\n",
       "      <td>1</td>\n",
       "    </tr>\n",
       "  </tbody>\n",
       "</table>\n",
       "</div>"
      ],
      "text/plain": [
       "                                             Folders  Frequency\n",
       "0  &quot;All we are saying is give peace a chance...          1\n",
       "1  &quot;Gray wagtail&quot; found in rivers and m...          1\n",
       "2  1891. In 1906 she was en route from Peru to Ge...          1\n",
       "3                                               1925          1\n",
       "4                                              1950S          1"
      ]
     },
     "execution_count": 49,
     "metadata": {},
     "output_type": "execute_result"
    }
   ],
   "source": [
    "df_2.head()"
   ]
  },
  {
   "cell_type": "markdown",
   "id": "14a43c5d",
   "metadata": {},
   "source": [
    "## Top 10 Folders with most Images"
   ]
  },
  {
   "cell_type": "code",
   "execution_count": 56,
   "id": "68d857a6",
   "metadata": {},
   "outputs": [
    {
     "data": {
      "text/html": [
       "<div>\n",
       "<style scoped>\n",
       "    .dataframe tbody tr th:only-of-type {\n",
       "        vertical-align: middle;\n",
       "    }\n",
       "\n",
       "    .dataframe tbody tr th {\n",
       "        vertical-align: top;\n",
       "    }\n",
       "\n",
       "    .dataframe thead th {\n",
       "        text-align: right;\n",
       "    }\n",
       "</style>\n",
       "<table border=\"1\" class=\"dataframe\">\n",
       "  <thead>\n",
       "    <tr style=\"text-align: right;\">\n",
       "      <th></th>\n",
       "      <th>Folders</th>\n",
       "      <th>Frequency</th>\n",
       "    </tr>\n",
       "  </thead>\n",
       "  <tbody>\n",
       "    <tr>\n",
       "      <th>4744</th>\n",
       "      <td>nature</td>\n",
       "      <td>838</td>\n",
       "    </tr>\n",
       "    <tr>\n",
       "      <th>224</th>\n",
       "      <td>Animal</td>\n",
       "      <td>608</td>\n",
       "    </tr>\n",
       "    <tr>\n",
       "      <th>2742</th>\n",
       "      <td>Flower</td>\n",
       "      <td>548</td>\n",
       "    </tr>\n",
       "    <tr>\n",
       "      <th>725</th>\n",
       "      <td>Bird</td>\n",
       "      <td>517</td>\n",
       "    </tr>\n",
       "    <tr>\n",
       "      <th>2758</th>\n",
       "      <td>Flowers</td>\n",
       "      <td>505</td>\n",
       "    </tr>\n",
       "    <tr>\n",
       "      <th>6094</th>\n",
       "      <td>Sea</td>\n",
       "      <td>305</td>\n",
       "    </tr>\n",
       "    <tr>\n",
       "      <th>5346</th>\n",
       "      <td>Plant</td>\n",
       "      <td>283</td>\n",
       "    </tr>\n",
       "    <tr>\n",
       "      <th>6775</th>\n",
       "      <td>Sunset</td>\n",
       "      <td>275</td>\n",
       "    </tr>\n",
       "    <tr>\n",
       "      <th>2809</th>\n",
       "      <td>Forest</td>\n",
       "      <td>261</td>\n",
       "    </tr>\n",
       "    <tr>\n",
       "      <th>7222</th>\n",
       "      <td>Trees</td>\n",
       "      <td>242</td>\n",
       "    </tr>\n",
       "  </tbody>\n",
       "</table>\n",
       "</div>"
      ],
      "text/plain": [
       "      Folders  Frequency\n",
       "4744   nature        838\n",
       "224    Animal        608\n",
       "2742   Flower        548\n",
       "725      Bird        517\n",
       "2758  Flowers        505\n",
       "6094      Sea        305\n",
       "5346    Plant        283\n",
       "6775   Sunset        275\n",
       "2809   Forest        261\n",
       "7222    Trees        242"
      ]
     },
     "execution_count": 56,
     "metadata": {},
     "output_type": "execute_result"
    }
   ],
   "source": [
    "df_2.sort_values(by = 'Frequency', ascending = False).head(10)"
   ]
  },
  {
   "cell_type": "markdown",
   "id": "de3e7cd7",
   "metadata": {},
   "source": [
    "## Top 10 Folders with least Images"
   ]
  },
  {
   "cell_type": "code",
   "execution_count": 57,
   "id": "37a599f5",
   "metadata": {},
   "outputs": [
    {
     "data": {
      "text/html": [
       "<div>\n",
       "<style scoped>\n",
       "    .dataframe tbody tr th:only-of-type {\n",
       "        vertical-align: middle;\n",
       "    }\n",
       "\n",
       "    .dataframe tbody tr th {\n",
       "        vertical-align: top;\n",
       "    }\n",
       "\n",
       "    .dataframe thead th {\n",
       "        text-align: right;\n",
       "    }\n",
       "</style>\n",
       "<table border=\"1\" class=\"dataframe\">\n",
       "  <thead>\n",
       "    <tr style=\"text-align: right;\">\n",
       "      <th></th>\n",
       "      <th>Folders</th>\n",
       "      <th>Frequency</th>\n",
       "    </tr>\n",
       "  </thead>\n",
       "  <tbody>\n",
       "    <tr>\n",
       "      <th>2385</th>\n",
       "      <td>emergiendo</td>\n",
       "      <td>0</td>\n",
       "    </tr>\n",
       "    <tr>\n",
       "      <th>6471</th>\n",
       "      <td>South Australia. The light housekeeper sold ve...</td>\n",
       "      <td>0</td>\n",
       "    </tr>\n",
       "    <tr>\n",
       "      <th>2046</th>\n",
       "      <td>Der Sonne entgegen</td>\n",
       "      <td>0</td>\n",
       "    </tr>\n",
       "    <tr>\n",
       "      <th>6977</th>\n",
       "      <td>The Camellia japonica is a very common tree sp...</td>\n",
       "      <td>0</td>\n",
       "    </tr>\n",
       "    <tr>\n",
       "      <th>2002</th>\n",
       "      <td>Das versteckte Haus</td>\n",
       "      <td>0</td>\n",
       "    </tr>\n",
       "    <tr>\n",
       "      <th>2557</th>\n",
       "      <td>Fantasmagòrica vista de los Reyes Magos de Ori...</td>\n",
       "      <td>0</td>\n",
       "    </tr>\n",
       "    <tr>\n",
       "      <th>7037</th>\n",
       "      <td>This shot was taken at Kamo Aquarium in Yamaga...</td>\n",
       "      <td>0</td>\n",
       "    </tr>\n",
       "    <tr>\n",
       "      <th>423</th>\n",
       "      <td>Australia The Windorah solar dishes supply 100...</td>\n",
       "      <td>0</td>\n",
       "    </tr>\n",
       "    <tr>\n",
       "      <th>2280</th>\n",
       "      <td>Each candle is a soul</td>\n",
       "      <td>0</td>\n",
       "    </tr>\n",
       "    <tr>\n",
       "      <th>3433</th>\n",
       "      <td>High in the French alps. Climbers walk the ste...</td>\n",
       "      <td>0</td>\n",
       "    </tr>\n",
       "  </tbody>\n",
       "</table>\n",
       "</div>"
      ],
      "text/plain": [
       "                                                Folders  Frequency\n",
       "2385                                         emergiendo          0\n",
       "6471  South Australia. The light housekeeper sold ve...          0\n",
       "2046                                 Der Sonne entgegen          0\n",
       "6977  The Camellia japonica is a very common tree sp...          0\n",
       "2002                                Das versteckte Haus          0\n",
       "2557  Fantasmagòrica vista de los Reyes Magos de Ori...          0\n",
       "7037  This shot was taken at Kamo Aquarium in Yamaga...          0\n",
       "423   Australia The Windorah solar dishes supply 100...          0\n",
       "2280                              Each candle is a soul          0\n",
       "3433  High in the French alps. Climbers walk the ste...          0"
      ]
     },
     "execution_count": 57,
     "metadata": {},
     "output_type": "execute_result"
    }
   ],
   "source": [
    "df_2.sort_values(by = 'Frequency', ascending = True).head(10)"
   ]
  },
  {
   "cell_type": "markdown",
   "id": "bcb52abc",
   "metadata": {},
   "source": [
    "## Folders with more than 10 Images"
   ]
  },
  {
   "cell_type": "code",
   "execution_count": 70,
   "id": "446aa5bc",
   "metadata": {},
   "outputs": [
    {
     "data": {
      "text/html": [
       "<div>\n",
       "<style scoped>\n",
       "    .dataframe tbody tr th:only-of-type {\n",
       "        vertical-align: middle;\n",
       "    }\n",
       "\n",
       "    .dataframe tbody tr th {\n",
       "        vertical-align: top;\n",
       "    }\n",
       "\n",
       "    .dataframe thead th {\n",
       "        text-align: right;\n",
       "    }\n",
       "</style>\n",
       "<table border=\"1\" class=\"dataframe\">\n",
       "  <thead>\n",
       "    <tr style=\"text-align: right;\">\n",
       "      <th></th>\n",
       "      <th>Folders</th>\n",
       "      <th>Frequency</th>\n",
       "    </tr>\n",
       "  </thead>\n",
       "  <tbody>\n",
       "    <tr>\n",
       "      <th>22</th>\n",
       "      <td>A Book</td>\n",
       "      <td>12</td>\n",
       "    </tr>\n",
       "    <tr>\n",
       "      <th>44</th>\n",
       "      <td>Abstract</td>\n",
       "      <td>38</td>\n",
       "    </tr>\n",
       "    <tr>\n",
       "      <th>74</th>\n",
       "      <td>Add a description (optional)</td>\n",
       "      <td>14</td>\n",
       "    </tr>\n",
       "    <tr>\n",
       "      <th>80</th>\n",
       "      <td>Adult</td>\n",
       "      <td>13</td>\n",
       "    </tr>\n",
       "    <tr>\n",
       "      <th>83</th>\n",
       "      <td>Advent</td>\n",
       "      <td>11</td>\n",
       "    </tr>\n",
       "    <tr>\n",
       "      <th>...</th>\n",
       "      <td>...</td>\n",
       "      <td>...</td>\n",
       "    </tr>\n",
       "    <tr>\n",
       "      <th>7877</th>\n",
       "      <td>Yellow</td>\n",
       "      <td>21</td>\n",
       "    </tr>\n",
       "    <tr>\n",
       "      <th>7886</th>\n",
       "      <td>Yellow Flower</td>\n",
       "      <td>37</td>\n",
       "    </tr>\n",
       "    <tr>\n",
       "      <th>7887</th>\n",
       "      <td>Yellow Flowers</td>\n",
       "      <td>21</td>\n",
       "    </tr>\n",
       "    <tr>\n",
       "      <th>7914</th>\n",
       "      <td>Young</td>\n",
       "      <td>23</td>\n",
       "    </tr>\n",
       "    <tr>\n",
       "      <th>7951</th>\n",
       "      <td>Zoo</td>\n",
       "      <td>27</td>\n",
       "    </tr>\n",
       "  </tbody>\n",
       "</table>\n",
       "<p>608 rows × 2 columns</p>\n",
       "</div>"
      ],
      "text/plain": [
       "                           Folders  Frequency\n",
       "22                          A Book         12\n",
       "44                        Abstract         38\n",
       "74    Add a description (optional)         14\n",
       "80                           Adult         13\n",
       "83                          Advent         11\n",
       "...                            ...        ...\n",
       "7877                        Yellow         21\n",
       "7886                 Yellow Flower         37\n",
       "7887                Yellow Flowers         21\n",
       "7914                         Young         23\n",
       "7951                           Zoo         27\n",
       "\n",
       "[608 rows x 2 columns]"
      ]
     },
     "execution_count": 70,
     "metadata": {},
     "output_type": "execute_result"
    }
   ],
   "source": [
    "df_2[df_2['Frequency'] >= 10]"
   ]
  },
  {
   "cell_type": "markdown",
   "id": "1e0a1850",
   "metadata": {},
   "source": [
    "## Removing folders with less than 10 Images"
   ]
  },
  {
   "cell_type": "code",
   "execution_count": 91,
   "id": "3cdce565",
   "metadata": {},
   "outputs": [
    {
     "name": "stderr",
     "output_type": "stream",
     "text": [
      "100%|█████████████████████████████████████████████████████████████████████████████| 7353/7353 [00:10<00:00, 731.69it/s]\n"
     ]
    }
   ],
   "source": [
    "for folder in tqdm(df_2[df_2['Frequency'] < 10]['Folders']):\n",
    "    \n",
    "    src = 'Dataset/' + folder\n",
    "    dst = 'Temp/' + folder\n",
    "    \n",
    "    shutil.move(src, dst)"
   ]
  },
  {
   "cell_type": "code",
   "execution_count": null,
   "id": "817b42ec",
   "metadata": {},
   "outputs": [],
   "source": []
  }
 ],
 "metadata": {
  "kernelspec": {
   "display_name": "Python 3 (ipykernel)",
   "language": "python",
   "name": "python3"
  },
  "language_info": {
   "codemirror_mode": {
    "name": "ipython",
    "version": 3
   },
   "file_extension": ".py",
   "mimetype": "text/x-python",
   "name": "python",
   "nbconvert_exporter": "python",
   "pygments_lexer": "ipython3",
   "version": "3.11.4"
  }
 },
 "nbformat": 4,
 "nbformat_minor": 5
}
