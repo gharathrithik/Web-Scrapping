{
 "cells": [
  {
   "cell_type": "code",
   "execution_count": 19,
   "id": "5ea38ff1",
   "metadata": {},
   "outputs": [
    {
     "data": {
      "text/html": [
       "<div>\n",
       "<style scoped>\n",
       "    .dataframe tbody tr th:only-of-type {\n",
       "        vertical-align: middle;\n",
       "    }\n",
       "\n",
       "    .dataframe tbody tr th {\n",
       "        vertical-align: top;\n",
       "    }\n",
       "\n",
       "    .dataframe thead th {\n",
       "        text-align: right;\n",
       "    }\n",
       "</style>\n",
       "<table border=\"1\" class=\"dataframe\">\n",
       "  <thead>\n",
       "    <tr style=\"text-align: right;\">\n",
       "      <th></th>\n",
       "      <th>Image Link</th>\n",
       "      <th>Tags</th>\n",
       "      <th>Likes</th>\n",
       "      <th>Comments</th>\n",
       "    </tr>\n",
       "  </thead>\n",
       "  <tbody>\n",
       "    <tr>\n",
       "      <th>0</th>\n",
       "      <td>https://cdn.pixabay.com/photo/2022/03/06/05/30...</td>\n",
       "      <td>Clouds, Sky, Atmosphere, Blue Sky</td>\n",
       "      <td>196</td>\n",
       "      <td>55</td>\n",
       "    </tr>\n",
       "    <tr>\n",
       "      <th>1</th>\n",
       "      <td>https://cdn.pixabay.com/photo/2022/04/07/11/45...</td>\n",
       "      <td>Bird, Ornithology, Hummingbird</td>\n",
       "      <td>76</td>\n",
       "      <td>20</td>\n",
       "    </tr>\n",
       "    <tr>\n",
       "      <th>2</th>\n",
       "      <td>https://cdn.pixabay.com/photo/2022/02/28/15/28...</td>\n",
       "      <td>Sea, Rainbow, Rainfall, Subtropical</td>\n",
       "      <td>282</td>\n",
       "      <td>106</td>\n",
       "    </tr>\n",
       "    <tr>\n",
       "      <th>3</th>\n",
       "      <td>https://cdn.pixabay.com/photo/2022/04/04/02/52...</td>\n",
       "      <td>Cherry Blossoms, Road, Japan, Sakura</td>\n",
       "      <td>42</td>\n",
       "      <td>11</td>\n",
       "    </tr>\n",
       "    <tr>\n",
       "      <th>4</th>\n",
       "      <td>https://cdn.pixabay.com/photo/2022/04/09/18/06...</td>\n",
       "      <td>Cape Marguerite, Flower, Plant</td>\n",
       "      <td>39</td>\n",
       "      <td>15</td>\n",
       "    </tr>\n",
       "  </tbody>\n",
       "</table>\n",
       "</div>"
      ],
      "text/plain": [
       "                                          Image Link  \\\n",
       "0  https://cdn.pixabay.com/photo/2022/03/06/05/30...   \n",
       "1  https://cdn.pixabay.com/photo/2022/04/07/11/45...   \n",
       "2  https://cdn.pixabay.com/photo/2022/02/28/15/28...   \n",
       "3  https://cdn.pixabay.com/photo/2022/04/04/02/52...   \n",
       "4  https://cdn.pixabay.com/photo/2022/04/09/18/06...   \n",
       "\n",
       "                                   Tags  Likes  Comments  \n",
       "0     Clouds, Sky, Atmosphere, Blue Sky    196        55  \n",
       "1        Bird, Ornithology, Hummingbird     76        20  \n",
       "2   Sea, Rainbow, Rainfall, Subtropical    282       106  \n",
       "3  Cherry Blossoms, Road, Japan, Sakura     42        11  \n",
       "4        Cape Marguerite, Flower, Plant     39        15  "
      ]
     },
     "execution_count": 19,
     "metadata": {},
     "output_type": "execute_result"
    }
   ],
   "source": [
    "import pandas as pd\n",
    "import requests\n",
    "\n",
    "from tqdm import tqdm\n",
    "\n",
    "df = pd.read_csv('Stock Images.csv')\n",
    "\n",
    "df.head()"
   ]
  },
  {
   "cell_type": "markdown",
   "id": "f4062c64",
   "metadata": {},
   "source": [
    "## 1. Downloading An Image"
   ]
  },
  {
   "cell_type": "code",
   "execution_count": 10,
   "id": "eed2070d",
   "metadata": {},
   "outputs": [],
   "source": [
    "link = df['Image Link'][0]\n",
    "\n",
    "res = requests.get(link)\n",
    "\n",
    "fd = open('Img.png', 'wb')\n",
    "fd.write(res.content)\n",
    "fd.close()"
   ]
  },
  {
   "cell_type": "markdown",
   "id": "2f67f97f",
   "metadata": {},
   "source": [
    "## 2. Downloading all the Images"
   ]
  },
  {
   "cell_type": "code",
   "execution_count": 20,
   "id": "e62c5f6c",
   "metadata": {},
   "outputs": [
    {
     "name": "stderr",
     "output_type": "stream",
     "text": [
      "100%|██████████████████████████████████████████████████████████████████████████████| 9104/9104 [46:37<00:00,  3.25it/s]\n"
     ]
    }
   ],
   "source": [
    "path = []\n",
    "\n",
    "for link in tqdm(df['Image Link']):\n",
    "    \n",
    "    res = requests.get(link)\n",
    "    \n",
    "    fd = open('Images/' + link.split('/')[-1], 'wb')\n",
    "    fd.write(res.content)\n",
    "    fd.close()\n",
    "     \n",
    "    path.append('Images/' + link.split('/')[-1])"
   ]
  },
  {
   "cell_type": "code",
   "execution_count": 23,
   "id": "c5325095",
   "metadata": {},
   "outputs": [],
   "source": [
    "df['Path'] = path"
   ]
  },
  {
   "cell_type": "code",
   "execution_count": 32,
   "id": "b60b7fd6",
   "metadata": {},
   "outputs": [
    {
     "data": {
      "text/html": [
       "<div>\n",
       "<style scoped>\n",
       "    .dataframe tbody tr th:only-of-type {\n",
       "        vertical-align: middle;\n",
       "    }\n",
       "\n",
       "    .dataframe tbody tr th {\n",
       "        vertical-align: top;\n",
       "    }\n",
       "\n",
       "    .dataframe thead th {\n",
       "        text-align: right;\n",
       "    }\n",
       "</style>\n",
       "<table border=\"1\" class=\"dataframe\">\n",
       "  <thead>\n",
       "    <tr style=\"text-align: right;\">\n",
       "      <th></th>\n",
       "      <th>Image Link</th>\n",
       "      <th>Tags</th>\n",
       "      <th>Likes</th>\n",
       "      <th>Comments</th>\n",
       "      <th>Path</th>\n",
       "    </tr>\n",
       "  </thead>\n",
       "  <tbody>\n",
       "    <tr>\n",
       "      <th>0</th>\n",
       "      <td>https://cdn.pixabay.com/photo/2022/03/06/05/30...</td>\n",
       "      <td>Clouds, Sky, Atmosphere, Blue Sky</td>\n",
       "      <td>196</td>\n",
       "      <td>55</td>\n",
       "      <td>Images/clouds-7050884__480.jpg</td>\n",
       "    </tr>\n",
       "    <tr>\n",
       "      <th>1</th>\n",
       "      <td>https://cdn.pixabay.com/photo/2022/04/07/11/45...</td>\n",
       "      <td>Bird, Ornithology, Hummingbird</td>\n",
       "      <td>76</td>\n",
       "      <td>20</td>\n",
       "      <td>Images/bird-7117346__340.jpg</td>\n",
       "    </tr>\n",
       "    <tr>\n",
       "      <th>2</th>\n",
       "      <td>https://cdn.pixabay.com/photo/2022/02/28/15/28...</td>\n",
       "      <td>Sea, Rainbow, Rainfall, Subtropical</td>\n",
       "      <td>282</td>\n",
       "      <td>106</td>\n",
       "      <td>Images/sea-7039471__340.jpg</td>\n",
       "    </tr>\n",
       "    <tr>\n",
       "      <th>3</th>\n",
       "      <td>https://cdn.pixabay.com/photo/2022/04/04/02/52...</td>\n",
       "      <td>Cherry Blossoms, Road, Japan, Sakura</td>\n",
       "      <td>42</td>\n",
       "      <td>11</td>\n",
       "      <td>Images/cherry-blossoms-7110279__340.jpg</td>\n",
       "    </tr>\n",
       "    <tr>\n",
       "      <th>4</th>\n",
       "      <td>https://cdn.pixabay.com/photo/2022/04/09/18/06...</td>\n",
       "      <td>Cape Marguerite, Flower, Plant</td>\n",
       "      <td>39</td>\n",
       "      <td>15</td>\n",
       "      <td>Images/cape-marguerite-7121992__340.jpg</td>\n",
       "    </tr>\n",
       "  </tbody>\n",
       "</table>\n",
       "</div>"
      ],
      "text/plain": [
       "                                          Image Link  \\\n",
       "0  https://cdn.pixabay.com/photo/2022/03/06/05/30...   \n",
       "1  https://cdn.pixabay.com/photo/2022/04/07/11/45...   \n",
       "2  https://cdn.pixabay.com/photo/2022/02/28/15/28...   \n",
       "3  https://cdn.pixabay.com/photo/2022/04/04/02/52...   \n",
       "4  https://cdn.pixabay.com/photo/2022/04/09/18/06...   \n",
       "\n",
       "                                   Tags  Likes  Comments  \\\n",
       "0     Clouds, Sky, Atmosphere, Blue Sky    196        55   \n",
       "1        Bird, Ornithology, Hummingbird     76        20   \n",
       "2   Sea, Rainbow, Rainfall, Subtropical    282       106   \n",
       "3  Cherry Blossoms, Road, Japan, Sakura     42        11   \n",
       "4        Cape Marguerite, Flower, Plant     39        15   \n",
       "\n",
       "                                      Path  \n",
       "0           Images/clouds-7050884__480.jpg  \n",
       "1             Images/bird-7117346__340.jpg  \n",
       "2              Images/sea-7039471__340.jpg  \n",
       "3  Images/cherry-blossoms-7110279__340.jpg  \n",
       "4  Images/cape-marguerite-7121992__340.jpg  "
      ]
     },
     "execution_count": 32,
     "metadata": {},
     "output_type": "execute_result"
    }
   ],
   "source": [
    "df.head()"
   ]
  },
  {
   "cell_type": "code",
   "execution_count": 33,
   "id": "4fed2bbb",
   "metadata": {},
   "outputs": [],
   "source": [
    "df.to_csv('Final Stock Images.csv', index = False)"
   ]
  },
  {
   "cell_type": "code",
   "execution_count": null,
   "id": "ff5467c7",
   "metadata": {},
   "outputs": [],
   "source": []
  }
 ],
 "metadata": {
  "kernelspec": {
   "display_name": "Python 3 (ipykernel)",
   "language": "python",
   "name": "python3"
  },
  "language_info": {
   "codemirror_mode": {
    "name": "ipython",
    "version": 3
   },
   "file_extension": ".py",
   "mimetype": "text/x-python",
   "name": "python",
   "nbconvert_exporter": "python",
   "pygments_lexer": "ipython3",
   "version": "3.11.4"
  }
 },
 "nbformat": 4,
 "nbformat_minor": 5
}
