{
 "cells": [
  {
   "cell_type": "code",
   "execution_count": 1,
   "id": "74387815",
   "metadata": {},
   "outputs": [],
   "source": [
    "import pandas as pd\n",
    "import requests\n",
    "import time\n",
    "\n",
    "from selenium import webdriver\n",
    "from tqdm import tqdm"
   ]
  },
  {
   "cell_type": "markdown",
   "id": "ed95a791",
   "metadata": {},
   "source": [
    "## Infinite Scrolling"
   ]
  },
  {
   "cell_type": "code",
   "execution_count": 12,
   "id": "cf72ba40",
   "metadata": {},
   "outputs": [
    {
     "name": "stderr",
     "output_type": "stream",
     "text": [
      "100%|████████████████████████████████████████████████████████████████████████████████| 250/250 [00:53<00:00,  4.65it/s]\n"
     ]
    }
   ],
   "source": [
    "browser = webdriver.Chrome()\n",
    "browser.get('https://stock-pictures.netlify.app/')\n",
    "\n",
    "for i in tqdm(range(0, 250000, 1000)):\n",
    "    browser.execute_script('window.scrollTo(0, ' + str(i) + ')')\n",
    "    time.sleep(.1)"
   ]
  },
  {
   "cell_type": "markdown",
   "id": "6df16380",
   "metadata": {},
   "source": [
    "## Dynamic Naming"
   ]
  },
  {
   "cell_type": "code",
   "execution_count": 20,
   "id": "21e677d5",
   "metadata": {},
   "outputs": [],
   "source": [
    "df = pd.read_csv('Stock Images.csv')\n",
    "ref = 100000\n",
    "i = 1\n",
    "\n",
    "for link in df['Image Link']:\n",
    "    \n",
    "    img_id = 'A' + str(i + ref)[1:]\n",
    "    i += 1"
   ]
  },
  {
   "cell_type": "code",
   "execution_count": 21,
   "id": "605c434a",
   "metadata": {},
   "outputs": [
    {
     "data": {
      "text/plain": [
       "'A09104'"
      ]
     },
     "execution_count": 21,
     "metadata": {},
     "output_type": "execute_result"
    }
   ],
   "source": [
    "img_id"
   ]
  },
  {
   "cell_type": "code",
   "execution_count": null,
   "id": "9940afee",
   "metadata": {},
   "outputs": [],
   "source": []
  }
 ],
 "metadata": {
  "kernelspec": {
   "display_name": "Python 3 (ipykernel)",
   "language": "python",
   "name": "python3"
  },
  "language_info": {
   "codemirror_mode": {
    "name": "ipython",
    "version": 3
   },
   "file_extension": ".py",
   "mimetype": "text/x-python",
   "name": "python",
   "nbconvert_exporter": "python",
   "pygments_lexer": "ipython3",
   "version": "3.11.4"
  }
 },
 "nbformat": 4,
 "nbformat_minor": 5
}
