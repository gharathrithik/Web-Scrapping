{
 "cells": [
  {
   "cell_type": "code",
   "execution_count": null,
   "id": "adf387f3",
   "metadata": {},
   "outputs": [],
   "source": [
    "import numpy as np\n",
    "import pandas as pd\n",
    "import time\n",
    "\n",
    "from bs4 import BeautifulSoup\n",
    "from selenium import webdriver\n",
    "from tqdm import tqdm"
   ]
  },
  {
   "cell_type": "code",
   "execution_count": null,
   "id": "4ffa69ae",
   "metadata": {},
   "outputs": [],
   "source": [
    "df = pd.read_csv('Data.csv')"
   ]
  },
  {
   "cell_type": "code",
   "execution_count": null,
   "id": "96217210",
   "metadata": {},
   "outputs": [],
   "source": [
    "data = []\n",
    "\n",
    "browser = webdriver.Chrome()\n",
    "browser.get('https://www.youtube.com/')\n",
    "\n",
    "time.sleep(2)\n",
    "\n",
    "for link in tqdm(df['Video_link']):\n",
    "    \n",
    "    link = 'https://www.youtube.com/' + link\n",
    "    browser.get(link)\n",
    "    \n",
    "    time.sleep(2)\n",
    "    \n",
    "    soup = BeautifulSoup(browser.page_source, 'html.parser')\n",
    "    \n",
    "    try:\n",
    "        title = soup.find('yt-formatted-string', class_ = 'style-scope ytd-watch-metadata').text\n",
    "    except:\n",
    "        title = np.nan\n",
    "    try:\n",
    "        views = soup.find_all('span', class_ = 'bold style-scope yt-formatted-string')[0].text\n",
    "    except:\n",
    "        views = np.nan\n",
    "    try:\n",
    "        date_time = soup.find_all('span', class_ = 'bold style-scope yt-formatted-string')[2].text\n",
    "    except:\n",
    "        date_time = np.nan\n",
    "    try:\n",
    "        likes = soup.find('button', class_ = 'yt-spec-button-shape-next yt-spec-button-shape-next--tonal yt-spec-button-shape-next--mono yt-spec-button-shape-next--size-m yt-spec-button-shape-next--icon-leading yt-spec-button-shape-next--segmented-start').text\n",
    "    except:\n",
    "        likes = np.nan\n",
    "    try:\n",
    "        description = ''\n",
    "        for desc in soup.find_all('span', class_ = 'yt-core-attributed-string yt-core-attributed-string--white-space-pre-wrap')[1:]:\n",
    "            description += desc.text\n",
    "    except:\n",
    "        description = np.nan\n",
    "    \n",
    "    data.append([title, views, likes, date_time, description, link])"
   ]
  },
  {
   "cell_type": "code",
   "execution_count": null,
   "id": "627af10e",
   "metadata": {},
   "outputs": [],
   "source": [
    "df_2 = pd.DataFrame(data, columns = ['Title', 'Views', 'Likes', 'Date', 'Description', 'Link'])"
   ]
  },
  {
   "cell_type": "code",
   "execution_count": null,
   "id": "174584e4",
   "metadata": {},
   "outputs": [],
   "source": [
    "df_2.to_csv('Interrupted_data.csv', index = False)"
   ]
  },
  {
   "cell_type": "code",
   "execution_count": null,
   "id": "0ccd6e30",
   "metadata": {},
   "outputs": [],
   "source": []
  }
 ],
 "metadata": {
  "kernelspec": {
   "display_name": "Python 3 (ipykernel)",
   "language": "python",
   "name": "python3"
  },
  "language_info": {
   "codemirror_mode": {
    "name": "ipython",
    "version": 3
   },
   "file_extension": ".py",
   "mimetype": "text/x-python",
   "name": "python",
   "nbconvert_exporter": "python",
   "pygments_lexer": "ipython3",
   "version": "3.11.4"
  }
 },
 "nbformat": 4,
 "nbformat_minor": 5
}
