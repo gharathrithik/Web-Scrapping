{
 "cells": [
  {
   "cell_type": "code",
   "execution_count": null,
   "id": "368808b6",
   "metadata": {},
   "outputs": [],
   "source": [
    "import pandas as pd\n",
    "\n",
    "from bs4 import BeautifulSoup\n",
    "from selenium import webdriver"
   ]
  },
  {
   "cell_type": "code",
   "execution_count": null,
   "id": "770c73c6",
   "metadata": {},
   "outputs": [],
   "source": [
    "browser = webdriver.Chrome()\n",
    "browser.get('https://www.youtube.com/@GeeksforGeeksVideos/videos')\n",
    "soup = BeautifulSoup(browser.page_source, 'html.parser')"
   ]
  },
  {
   "cell_type": "code",
   "execution_count": null,
   "id": "4da9f59d",
   "metadata": {},
   "outputs": [],
   "source": [
    "soup = BeautifulSoup(browser.page_source, 'html.parser')"
   ]
  },
  {
   "cell_type": "code",
   "execution_count": null,
   "id": "753400bc",
   "metadata": {},
   "outputs": [],
   "source": [
    "data = []\n",
    "\n",
    "for sp in soup.find_all('ytd-rich-item-renderer'):\n",
    "    title      = sp.find('a', class_ = 'yt-simple-endpoint focus-on-expand style-scope ytd-rich-grid-media').text\n",
    "    video_link = sp.find('a', class_ = 'yt-simple-endpoint focus-on-expand style-scope ytd-rich-grid-media').get('href')\n",
    "\n",
    "    views      = sp.find_all('span', class_ = 'inline-metadata-item style-scope ytd-video-meta-block')[0].text\n",
    "    date_time  = sp.find_all('span', class_ = 'inline-metadata-item style-scope ytd-video-meta-block')[1].text\n",
    "    \n",
    "    thumbnail  = sp1[0].find('img').get('src').split('?')[0]\n",
    "    \n",
    "    data.append([title, video_link, views, date_time, thumbnail])"
   ]
  },
  {
   "cell_type": "code",
   "execution_count": null,
   "id": "bd096109",
   "metadata": {},
   "outputs": [],
   "source": [
    "df = pd.DataFrame(data, columns = ['Title', 'Video_link', 'Views', 'Date_time', 'Thumbnail'])"
   ]
  },
  {
   "cell_type": "code",
   "execution_count": null,
   "id": "0076a5f5",
   "metadata": {},
   "outputs": [],
   "source": [
    "df.to_csv('Data.csv', index = False)"
   ]
  }
 ],
 "metadata": {
  "kernelspec": {
   "display_name": "Python 3 (ipykernel)",
   "language": "python",
   "name": "python3"
  },
  "language_info": {
   "codemirror_mode": {
    "name": "ipython",
    "version": 3
   },
   "file_extension": ".py",
   "mimetype": "text/x-python",
   "name": "python",
   "nbconvert_exporter": "python",
   "pygments_lexer": "ipython3",
   "version": "3.11.4"
  }
 },
 "nbformat": 4,
 "nbformat_minor": 5
}
