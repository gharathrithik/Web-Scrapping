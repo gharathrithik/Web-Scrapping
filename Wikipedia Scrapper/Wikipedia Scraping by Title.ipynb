{
 "cells": [
  {
   "cell_type": "code",
   "execution_count": 1,
   "id": "6855c49a",
   "metadata": {},
   "outputs": [],
   "source": [
    "import requests\n",
    "from bs4 import BeautifulSoup"
   ]
  },
  {
   "cell_type": "code",
   "execution_count": null,
   "id": "f2947c46",
   "metadata": {},
   "outputs": [],
   "source": [
    "title = str(input('Enter the topic: ')).replace(' ','+')\n",
    "link = 'https://www.google.com/search?q=' + title + '+wikipedia'\n",
    "\n",
    "res = requests.get(link)\n",
    "soup = BeautifulSoup(res.text,'html.parser')\n",
    "\n",
    "\n",
    "for sp in soup.find_all('div'):\n",
    "    try:\n",
    "        link = sp.find('a').get('href')\n",
    "        if ('en.wikipedia.org' in link):\n",
    "            break\n",
    "    except:\n",
    "        pass\n",
    "    \n",
    "link = link[7:].split('&')[0]"
   ]
  },
  {
   "cell_type": "code",
   "execution_count": null,
   "id": "0bf726b2",
   "metadata": {},
   "outputs": [],
   "source": [
    "res = requests.get(link)\n",
    "soup = BeautifulSoup(res.text,'html.parser')\n",
    "\n",
    "corpus = ''\n",
    "for p in soup.find_all('p'):\n",
    "    corpus += p.text\n",
    "    corpus += '\\n'\n",
    "    \n",
    "corpus = corpus.strip()\n",
    "\n",
    "for i in range(500):\n",
    "    corpus = corpus.replace('['+str(i)+']','')"
   ]
  },
  {
   "cell_type": "code",
   "execution_count": null,
   "id": "b363c36a",
   "metadata": {},
   "outputs": [],
   "source": [
    "print(corpus)"
   ]
  }
 ],
 "metadata": {
  "kernelspec": {
   "display_name": "Python 3 (ipykernel)",
   "language": "python",
   "name": "python3"
  },
  "language_info": {
   "codemirror_mode": {
    "name": "ipython",
    "version": 3
   },
   "file_extension": ".py",
   "mimetype": "text/x-python",
   "name": "python",
   "nbconvert_exporter": "python",
   "pygments_lexer": "ipython3",
   "version": "3.11.4"
  }
 },
 "nbformat": 4,
 "nbformat_minor": 5
}
