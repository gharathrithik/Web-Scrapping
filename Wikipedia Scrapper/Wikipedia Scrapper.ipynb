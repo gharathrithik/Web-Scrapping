{
 "cells": [
  {
   "cell_type": "code",
   "execution_count": 2,
   "id": "a97c859e",
   "metadata": {},
   "outputs": [],
   "source": [
    "import requests\n",
    "from bs4 import BeautifulSoup"
   ]
  },
  {
   "cell_type": "code",
   "execution_count": 3,
   "id": "6d0ec915",
   "metadata": {},
   "outputs": [],
   "source": [
    "res = requests.get('https://en.wikipedia.org/wiki/Martin_Luther_King_Jr.')\n",
    "soup = BeautifulSoup(res.text, 'html.parser')"
   ]
  },
  {
   "cell_type": "code",
   "execution_count": 4,
   "id": "1fa52571",
   "metadata": {},
   "outputs": [],
   "source": [
    "heading = soup.find('h1').text"
   ]
  },
  {
   "cell_type": "code",
   "execution_count": 5,
   "id": "ccb21ac6",
   "metadata": {},
   "outputs": [],
   "source": [
    "corpus = ''\n",
    "\n",
    "for sp in soup.find_all('p'):\n",
    "    corpus += sp.text\n",
    "    corpus += '\\n'\n",
    "    \n",
    "    for i in range(2, 358):\n",
    "        corpus = corpus.replace('[' + str(i) + ']', '')\n",
    "        \n",
    "corpus = corpus.strip()"
   ]
  },
  {
   "cell_type": "code",
   "execution_count": 6,
   "id": "e4818238",
   "metadata": {},
   "outputs": [],
   "source": [
    "fd = open(heading + '.txt', 'w', encoding = 'utf-8')\n",
    "fd.write(corpus)\n",
    "fd.close()"
   ]
  },
  {
   "cell_type": "code",
   "execution_count": null,
   "id": "ee778b4d",
   "metadata": {},
   "outputs": [],
   "source": []
  }
 ],
 "metadata": {
  "kernelspec": {
   "display_name": "Python 3 (ipykernel)",
   "language": "python",
   "name": "python3"
  },
  "language_info": {
   "codemirror_mode": {
    "name": "ipython",
    "version": 3
   },
   "file_extension": ".py",
   "mimetype": "text/x-python",
   "name": "python",
   "nbconvert_exporter": "python",
   "pygments_lexer": "ipython3",
   "version": "3.11.4"
  }
 },
 "nbformat": 4,
 "nbformat_minor": 5
}
